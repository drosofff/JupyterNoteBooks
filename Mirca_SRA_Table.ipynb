{
 "cells": [
  {
   "cell_type": "markdown",
   "metadata": {
    "deletable": true,
    "editable": true
   },
   "source": [
    "# Welcome to the interactive Galaxy IPython Notebook."
   ]
  },
  {
   "cell_type": "markdown",
   "metadata": {
    "deletable": true,
    "editable": true
   },
   "source": [
    "You can access your data via the dataset number. For example, ``handle = open(get(42), 'r')``.\n",
    "To save data, write your data to a file, and then call ``put('filename.txt')``. The dataset will then be available in your galaxy history.\n",
    "Notebooks can be saved to Galaxy by clicking the large green button at the top right of the IPython interface.<br>\n",
    "More help and informations can be found on the project [website](https://github.com/bgruening/galaxy-ipython)."
   ]
  },
  {
   "cell_type": "code",
   "execution_count": 13,
   "metadata": {
    "collapsed": false,
    "deletable": true,
    "editable": true
   },
   "outputs": [],
   "source": [
    "sraTable = open(get(1), \"r\")\n",
    "sradic = {}\n",
    "for line in sraTable:\n",
    "    sradic[line.split(\"\\t\")[7]] = line[:-1]\n",
    "#for key in sradic:\n",
    "#    print(\"%s\\t%s\" % (key, sradic[key]))\n",
    "sample_ids = open(get(4), \"r\")\n",
    "output = open(\"SRA_mirca.tab\", \"w\")\n",
    "for line in sample_ids:\n",
    "    sample_name_s = line.rstrip().split(\"\\t\")[-1]\n",
    "    if \"gsm\" in sample_name_s:\n",
    "        sample_name_s = sample_name_s[0:3].upper() + sample_name_s[3:]\n",
    "    output.write(\"%s\\t%s\\n\" % (line[:-1], sradic[sample_name_s]))\n",
    "output.close()\n",
    "put(\"SRA_mirca.tab\")"
   ]
  }
 ],
 "metadata": {
  "kernelspec": {
   "display_name": "Python 2",
   "language": "python",
   "name": "python2"
  },
  "language_info": {
   "codemirror_mode": {
    "name": "ipython",
    "version": 2
   },
   "file_extension": ".py",
   "mimetype": "text/x-python",
   "name": "python",
   "nbconvert_exporter": "python",
   "pygments_lexer": "ipython2",
   "version": "2.7.12"
  }
 },
 "nbformat": 4,
 "nbformat_minor": 0
}
